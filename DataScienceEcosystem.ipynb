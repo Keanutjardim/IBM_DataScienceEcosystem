{
 "cells": [
  {
   "cell_type": "markdown",
   "id": "29c21020-45d6-41db-9ac2-f9abf3b60d4f",
   "metadata": {},
   "source": [
    "# Data Science Tools and Ecosystem"
   ]
  },
  {
   "cell_type": "markdown",
   "id": "c6757fac-ff0e-4f24-90e9-844a000e98c7",
   "metadata": {},
   "source": [
    "In this notebook, Data Science Tools and Ecosystem are summarized."
   ]
  },
  {
   "cell_type": "markdown",
   "id": "69b9916d-5366-4742-b370-8a87b894ad0b",
   "metadata": {},
   "source": [
    "__Objectives:__\n",
    "\n",
    "* List popular languages for Data Science\n",
    "* Complete simple arithmetic with Python\n",
    "* List data science libraries"
   ]
  },
  {
   "cell_type": "markdown",
   "id": "17752de3-83b7-4833-8f11-cd3d6d377246",
   "metadata": {},
   "source": [
    "Some of the popular languages that Data Scientists use are:\n",
    "1. Python\n",
    "2. R\n",
    "3. C++\n"
   ]
  },
  {
   "cell_type": "markdown",
   "id": "4f442e76-4fa8-4a12-9330-d4b4e76d7ced",
   "metadata": {},
   "source": [
    "Some of the commonly used libraries used by Data Scientists include:\n",
    "1. TensorFlow\n",
    "2. Matplotlib\n",
    "3. GGplot\n",
    "4. Seaborn"
   ]
  },
  {
   "cell_type": "markdown",
   "id": "2d337052-5f60-4c8d-a2ba-1bcdf36160e8",
   "metadata": {},
   "source": [
    "|Data Science Tools|\n",
    "|:----------------:|\n",
    "| VS Code|\n",
    "| R Studio|\n",
    "|Jupyter Notebook|"
   ]
  },
  {
   "cell_type": "markdown",
   "id": "37bdeb5c-19f1-40e0-bf10-b50c9fbff019",
   "metadata": {
    "tags": []
   },
   "source": [
    "### Below are a few examples of evaluating arithmetic expressions in Python"
   ]
  },
  {
   "cell_type": "code",
   "execution_count": 5,
   "id": "80bb1c40-59b6-4df8-ab7f-6ada69d31c49",
   "metadata": {
    "tags": []
   },
   "outputs": [
    {
     "data": {
      "text/plain": [
       "17"
      ]
     },
     "execution_count": 5,
     "metadata": {},
     "output_type": "execute_result"
    }
   ],
   "source": [
    "#This a simple arithmetic expression to mutiply then add integers\n",
    "(3*4)+5"
   ]
  },
  {
   "cell_type": "code",
   "execution_count": 6,
   "id": "ef6afa66-4c42-4da8-a855-3e23c70c2646",
   "metadata": {
    "tags": []
   },
   "outputs": [
    {
     "data": {
      "text/plain": [
       "3.3333333333333335"
      ]
     },
     "execution_count": 6,
     "metadata": {},
     "output_type": "execute_result"
    }
   ],
   "source": [
    "# This will convert 200 minutes to hours by diving by 60\n",
    "200/60"
   ]
  },
  {
   "cell_type": "markdown",
   "id": "e267b9ee-30ed-4d6d-8a0b-6a6c6ac21000",
   "metadata": {
    "tags": []
   },
   "source": [
    "## Author\n",
    "Keanu Jardim"
   ]
  }
 ],
 "metadata": {
  "kernelspec": {
   "display_name": "Python",
   "language": "python",
   "name": "conda-env-python-py"
  },
  "language_info": {
   "codemirror_mode": {
    "name": "ipython",
    "version": 3
   },
   "file_extension": ".py",
   "mimetype": "text/x-python",
   "name": "python",
   "nbconvert_exporter": "python",
   "pygments_lexer": "ipython3",
   "version": "3.7.12"
  }
 },
 "nbformat": 4,
 "nbformat_minor": 5
}
